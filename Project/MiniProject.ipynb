{
 "cells": [
  {
   "cell_type": "code",
   "execution_count": null,
   "id": "8ac0ae81",
   "metadata": {},
   "outputs": [],
   "source": []
  },
  {
   "cell_type": "markdown",
   "id": "1e94e5f3",
   "metadata": {},
   "source": [
    "# 목표"
   ]
  },
  {
   "cell_type": "markdown",
   "id": "fd0dbca0",
   "metadata": {},
   "source": [
    "식자재 납품 업체에서 소매점으로 납품한 데이터를 이용하여\n",
    "\n",
    "- 거래처별 일일 객단가추이\n",
    "- 거래처별 일일 주문품목수 변화추이\n",
    "- 상품별 일일 매출수량 추이\n",
    "- 상품 가격별 매출변화 추이\n",
    "- 담당자별 매출 추이  \n",
    "\n",
    "을 확인한다.\n",
    "\n",
    "이후 MLlib을 이용하여 위에서 다룬 내용들에 대한 향후 예측 결과 모델을 만들어본다."
   ]
  },
  {
   "cell_type": "markdown",
   "id": "dc1adff7",
   "metadata": {},
   "source": [
    "# 아키텍쳐 정의"
   ]
  },
  {
   "cell_type": "code",
   "execution_count": null,
   "id": "5d093063",
   "metadata": {},
   "outputs": [],
   "source": []
  },
  {
   "cell_type": "markdown",
   "id": "ac02bc0c",
   "metadata": {},
   "source": [
    "# 계획"
   ]
  },
  {
   "cell_type": "markdown",
   "id": "fadee275",
   "metadata": {},
   "source": [
    "1. 환경구축\n",
    "    - pyspark 환경 구축\n",
    "    - mysql 연결\n",
    "2. 데이터 전처리\n",
    "    - 데이터 수정\n",
    "    - 데이터 스키마 수정\n",
    "    - 불필요한 컬럼 삭제\n",
    "    - 분석용 데이터 mysql에 적재\n",
    "3. 개발\n",
    "    - sql쿼리와 pandas를 이용한 분석 및 시각화\n",
    "4. 테스트 계획 수립"
   ]
  },
  {
   "cell_type": "code",
   "execution_count": null,
   "id": "8668d9ad",
   "metadata": {},
   "outputs": [],
   "source": []
  },
  {
   "cell_type": "markdown",
   "id": "4f2e8a61",
   "metadata": {},
   "source": [
    "# Spark 세션 생성"
   ]
  },
  {
   "cell_type": "code",
   "execution_count": 1,
   "id": "31ba8c03",
   "metadata": {},
   "outputs": [
    {
     "name": "stderr",
     "output_type": "stream",
     "text": [
      "24/12/18 16:15:43 WARN NativeCodeLoader: Unable to load native-hadoop library for your platform... using builtin-java classes where applicable\n",
      "Using Spark's default log4j profile: org/apache/spark/log4j-defaults.properties\n",
      "Setting default log level to \"WARN\".\n",
      "To adjust logging level use sc.setLogLevel(newLevel). For SparkR, use setLogLevel(newLevel).\n"
     ]
    }
   ],
   "source": [
    "from pyspark.sql import SparkSession\n",
    "# SparkSession 생성\n",
    "spark = SparkSession.builder.appName(\"MiniProject\").config(\"spark.jars\", \"/usr/local/lib/mysql-connector-java-5.1.49-bin.jar\").getOrCreate()\n",
    "# builder가 세션을 생성하는 객체 : singleton pattern object builder : 여러개 생성되는걸 막아준다"
   ]
  },
  {
   "cell_type": "markdown",
   "id": "1c26d7fa",
   "metadata": {},
   "source": [
    "# mysql 연결"
   ]
  },
  {
   "cell_type": "code",
   "execution_count": 2,
   "id": "15a2b3f6",
   "metadata": {},
   "outputs": [],
   "source": [
    "host_ip=\"15.152.104.196\"\n",
    "user_id=\"spark_user\"\n",
    "user_password=\"1234\"\n",
    "# mysql_url = f'jdbc:mysql://{host_ip}:3306/my_db'\n",
    "mysql_url = f'jdbc:mysql://{host_ip}:3306/my_db?useUnicode=true&characterEncoding=UTF-8&characterSetResults=UTF-8'\n"
   ]
  },
  {
   "cell_type": "code",
   "execution_count": 3,
   "id": "b2482f1d",
   "metadata": {},
   "outputs": [],
   "source": [
    "import os\n",
    "os.environ[\"PYSPARK_SUBMIT_ARGS\"] = \"--jars /usr/local/lib/mysql-connector-java-5.1.49-bin.jar pyspark-shell\""
   ]
  },
  {
   "cell_type": "markdown",
   "id": "d6122dc0",
   "metadata": {},
   "source": [
    "# Data Load"
   ]
  },
  {
   "cell_type": "code",
   "execution_count": 4,
   "id": "a33319fd",
   "metadata": {},
   "outputs": [
    {
     "name": "stderr",
     "output_type": "stream",
     "text": [
      "                                                                                \r"
     ]
    }
   ],
   "source": [
    "sales_df = spark.read.format(\"csv\")\\\n",
    "    .option(\"header\", 'true')\\\n",
    "    .option('inferSchema', 'true')\\\n",
    "    .load('data/sales_final.csv')"
   ]
  },
  {
   "cell_type": "code",
   "execution_count": 6,
   "id": "4f253cfc",
   "metadata": {},
   "outputs": [
    {
     "name": "stdout",
     "output_type": "stream",
     "text": [
      "root\n",
      " |-- Date: string (nullable = true)\n",
      " |-- Shop_Code: string (nullable = true)\n",
      " |-- Shop: string (nullable = true)\n",
      " |-- Item_Code: string (nullable = true)\n",
      " |-- Item: string (nullable = true)\n",
      " |-- Standard: string (nullable = true)\n",
      " |-- Unit: string (nullable = true)\n",
      " |-- Count: string (nullable = true)\n",
      " |-- Price: string (nullable = true)\n",
      " |-- Sum_Price: string (nullable = true)\n",
      " |-- Person: string (nullable = true)\n",
      "\n"
     ]
    }
   ],
   "source": [
    "sales_df.printSchema()"
   ]
  },
  {
   "cell_type": "code",
   "execution_count": 7,
   "id": "0df2d172",
   "metadata": {},
   "outputs": [
    {
     "name": "stdout",
     "output_type": "stream",
     "text": [
      "+----------+---------+-----------+---------+---------------------------+-----------+----+-----+------+---------+------------+\n",
      "|      Date|Shop_Code|       Shop|Item_Code|                       Item|   Standard|Unit|Count| Price|Sum_Price|      Person|\n",
      "+----------+---------+-----------+---------+---------------------------+-----------+----+-----+------+---------+------------+\n",
      "|2024-11-21|   057586|153구포국수|   005466|1.8L 유경빈초밥소스(초대리)|  1.8L(b/6)|  병|    1| 6,760|    6,760| 정동환/세현|\n",
      "|2024-11-21|   057586|153구포국수|   002803|    1kg 고사리(진공/중국산)|  1kg(b/10)|  봉|    2| 2,250|    4,500| 정동환/세현|\n",
      "|2024-11-21|   057586|153구포국수|   003305|       ★중국산/슬라이스김치|       10kg|박스|    4|15,490|   61,960| 정동환/세현|\n",
      "|2024-11-21|   057586|153구포국수|   002685|                *쌀떡볶이中|1.5kg(b/10)|  봉|    5| 2,900|   14,500| 정동환/세현|\n",
      "|2024-11-21|   057586|153구포국수|   003196|          2kg 쫄면사리/백미|  2kg(b/10)|  줄|    5| 4,050|   20,250| 정동환/세현|\n",
      "+----------+---------+-----------+---------+---------------------------+-----------+----+-----+------+---------+------------+\n",
      "only showing top 5 rows\n",
      "\n"
     ]
    }
   ],
   "source": [
    "sales_df.show(5)"
   ]
  },
  {
   "cell_type": "markdown",
   "id": "d374377b",
   "metadata": {},
   "source": [
    "# 데이터 전처리"
   ]
  },
  {
   "cell_type": "code",
   "execution_count": null,
   "id": "e5b054f1",
   "metadata": {},
   "outputs": [],
   "source": [
    "sales_df = sales_df.drop('Group')"
   ]
  },
  {
   "cell_type": "code",
   "execution_count": 8,
   "id": "790bdb5d",
   "metadata": {},
   "outputs": [],
   "source": [
    "from pyspark.sql.functions import regexp_replace, col\n",
    "\n",
    "sales_df = sales_df.withColumn(\"Price\", \n",
    "    regexp_replace(col(\"Price\"), \",\", \"\").cast(\"integer\"))\n",
    "sales_df = sales_df.withColumn(\"Sum_Price\", \n",
    "    regexp_replace(col(\"Sum_Price\"), \",\", \"\").cast(\"integer\"))"
   ]
  },
  {
   "cell_type": "code",
   "execution_count": 9,
   "id": "84c7eff8",
   "metadata": {},
   "outputs": [],
   "source": [
    "from pyspark.sql.functions import col\n",
    "from pyspark.sql.types import IntegerType, DoubleType, DateType\n",
    "\n",
    "columns_to_cast = [\"Shop_Code\", \"Item_code\", \"Count\",\"Price\", \"Sum_Price\"]\n",
    "for column in columns_to_cast:\n",
    "    sales_df = sales_df.withColumn(column, col(column).cast(IntegerType()))\n"
   ]
  },
  {
   "cell_type": "code",
   "execution_count": 10,
   "id": "2d77d8e3",
   "metadata": {},
   "outputs": [],
   "source": [
    "sales_df = sales_df.withColumn(\"Date\", col(\"Date\").cast(DateType()))"
   ]
  },
  {
   "cell_type": "code",
   "execution_count": 11,
   "id": "7959fa63",
   "metadata": {},
   "outputs": [
    {
     "name": "stdout",
     "output_type": "stream",
     "text": [
      "root\n",
      " |-- Date: date (nullable = true)\n",
      " |-- Shop_Code: integer (nullable = true)\n",
      " |-- Shop: string (nullable = true)\n",
      " |-- Item_code: integer (nullable = true)\n",
      " |-- Item: string (nullable = true)\n",
      " |-- Standard: string (nullable = true)\n",
      " |-- Unit: string (nullable = true)\n",
      " |-- Count: integer (nullable = true)\n",
      " |-- Price: integer (nullable = true)\n",
      " |-- Sum_Price: integer (nullable = true)\n",
      " |-- Person: string (nullable = true)\n",
      "\n"
     ]
    }
   ],
   "source": [
    "sales_df.printSchema()"
   ]
  },
  {
   "cell_type": "code",
   "execution_count": 12,
   "id": "b541a765",
   "metadata": {},
   "outputs": [
    {
     "name": "stdout",
     "output_type": "stream",
     "text": [
      "+----------+---------+-----------+---------+---------------------------+-----------+----+-----+-----+---------+------------+\n",
      "|      Date|Shop_Code|       Shop|Item_code|                       Item|   Standard|Unit|Count|Price|Sum_Price|      Person|\n",
      "+----------+---------+-----------+---------+---------------------------+-----------+----+-----+-----+---------+------------+\n",
      "|2024-11-21|    57586|153구포국수|     5466|1.8L 유경빈초밥소스(초대리)|  1.8L(b/6)|  병|    1| 6760|     6760| 정동환/세현|\n",
      "|2024-11-21|    57586|153구포국수|     2803|    1kg 고사리(진공/중국산)|  1kg(b/10)|  봉|    2| 2250|     4500| 정동환/세현|\n",
      "|2024-11-21|    57586|153구포국수|     3305|       ★중국산/슬라이스김치|       10kg|박스|    4|15490|    61960| 정동환/세현|\n",
      "|2024-11-21|    57586|153구포국수|     2685|                *쌀떡볶이中|1.5kg(b/10)|  봉|    5| 2900|    14500| 정동환/세현|\n",
      "|2024-11-21|    57586|153구포국수|     3196|          2kg 쫄면사리/백미|  2kg(b/10)|  줄|    5| 4050|    20250| 정동환/세현|\n",
      "+----------+---------+-----------+---------+---------------------------+-----------+----+-----+-----+---------+------------+\n",
      "only showing top 5 rows\n",
      "\n"
     ]
    }
   ],
   "source": [
    "sales_df.show(5)"
   ]
  },
  {
   "cell_type": "markdown",
   "id": "aeffcfea",
   "metadata": {},
   "source": [
    "# 분석용 데이터 MySQL에 적재"
   ]
  },
  {
   "cell_type": "code",
   "execution_count": 13,
   "id": "7cb07331",
   "metadata": {},
   "outputs": [
    {
     "name": "stderr",
     "output_type": "stream",
     "text": [
      "Wed Dec 18 16:16:32 KST 2024 WARN: Establishing SSL connection without server's identity verification is not recommended. According to MySQL 5.5.45+, 5.6.26+ and 5.7.6+ requirements SSL connection must be established by default if explicit option isn't set. For compliance with existing applications not using SSL the verifyServerCertificate property is set to 'false'. You need either to explicitly disable SSL by setting useSSL=false, or set useSSL=true and provide truststore for server certificate verification.\n",
      "Wed Dec 18 16:16:33 KST 2024 WARN: Establishing SSL connection without server's identity verification is not recommended. According to MySQL 5.5.45+, 5.6.26+ and 5.7.6+ requirements SSL connection must be established by default if explicit option isn't set. For compliance with existing applications not using SSL the verifyServerCertificate property is set to 'false'. You need either to explicitly disable SSL by setting useSSL=false, or set useSSL=true and provide truststore for server certificate verification.\n",
      "Wed Dec 18 16:16:34 KST 2024 WARN: Establishing SSL connection without server's identity verification is not recommended. According to MySQL 5.5.45+, 5.6.26+ and 5.7.6+ requirements SSL connection must be established by default if explicit option isn't set. For compliance with existing applications not using SSL the verifyServerCertificate property is set to 'false'. You need either to explicitly disable SSL by setting useSSL=false, or set useSSL=true and provide truststore for server certificate verification.\n"
     ]
    }
   ],
   "source": [
    "sales_df.write \\\n",
    "    .format(\"jdbc\") \\\n",
    "    .option(\"url\", mysql_url) \\\n",
    "    .option(\"driver\", \"com.mysql.jdbc.Driver\") \\\n",
    "    .option(\"dbtable\", \"sales\") \\\n",
    "    .option(\"user\", user_id) \\\n",
    "    .option(\"password\", user_password) \\\n",
    "    .option(\"charset\", \"UTF-8\") \\\n",
    "    .option(\"useUnicode\", \"true\") \\\n",
    "    .option(\"characterEncoding\", \"UTF-8\") \\\n",
    "    .mode(\"overwrite\") \\\n",
    "    .save()\n"
   ]
  },
  {
   "cell_type": "markdown",
   "id": "055b08d9",
   "metadata": {},
   "source": [
    "## 적재된 데이터 불러와서 확인해보기"
   ]
  },
  {
   "cell_type": "code",
   "execution_count": 14,
   "id": "78efe115",
   "metadata": {},
   "outputs": [
    {
     "name": "stderr",
     "output_type": "stream",
     "text": [
      "Wed Dec 18 16:16:37 KST 2024 WARN: Establishing SSL connection without server's identity verification is not recommended. According to MySQL 5.5.45+, 5.6.26+ and 5.7.6+ requirements SSL connection must be established by default if explicit option isn't set. For compliance with existing applications not using SSL the verifyServerCertificate property is set to 'false'. You need either to explicitly disable SSL by setting useSSL=false, or set useSSL=true and provide truststore for server certificate verification.\n"
     ]
    }
   ],
   "source": [
    "new_sales_df = spark.read.format('jdbc').options(url=mysql_url, driver='com.mysql.jdbc.Driver', dbtable='sales', user=user_id, password=user_password).load()"
   ]
  },
  {
   "cell_type": "code",
   "execution_count": 15,
   "id": "f257d8e5",
   "metadata": {},
   "outputs": [
    {
     "name": "stdout",
     "output_type": "stream",
     "text": [
      "+----------+---------+-----------+---------+---------------------------+-----------+----+-----+-----+---------+------------+\n",
      "|      Date|Shop_Code|       Shop|Item_code|                       Item|   Standard|Unit|Count|Price|Sum_Price|      Person|\n",
      "+----------+---------+-----------+---------+---------------------------+-----------+----+-----+-----+---------+------------+\n",
      "|2024-11-21|    57586|153구포국수|     5466|1.8L 유경빈초밥소스(초대리)|  1.8L(b/6)|  병|    1| 6760|     6760| 정동환/세현|\n",
      "|2024-11-21|    57586|153구포국수|     2803|    1kg 고사리(진공/중국산)|  1kg(b/10)|  봉|    2| 2250|     4500| 정동환/세현|\n",
      "|2024-11-21|    57586|153구포국수|     3305|       ★중국산/슬라이스김치|       10kg|박스|    4|15490|    61960| 정동환/세현|\n",
      "|2024-11-21|    57586|153구포국수|     2685|                *쌀떡볶이中|1.5kg(b/10)|  봉|    5| 2900|    14500| 정동환/세현|\n",
      "|2024-11-21|    57586|153구포국수|     3196|          2kg 쫄면사리/백미|  2kg(b/10)|  줄|    5| 4050|    20250| 정동환/세현|\n",
      "+----------+---------+-----------+---------+---------------------------+-----------+----+-----+-----+---------+------------+\n",
      "only showing top 5 rows\n",
      "\n"
     ]
    },
    {
     "name": "stderr",
     "output_type": "stream",
     "text": [
      "Wed Dec 18 16:16:39 KST 2024 WARN: Establishing SSL connection without server's identity verification is not recommended. According to MySQL 5.5.45+, 5.6.26+ and 5.7.6+ requirements SSL connection must be established by default if explicit option isn't set. For compliance with existing applications not using SSL the verifyServerCertificate property is set to 'false'. You need either to explicitly disable SSL by setting useSSL=false, or set useSSL=true and provide truststore for server certificate verification.\n"
     ]
    }
   ],
   "source": [
    "new_sales_df.show(5)"
   ]
  },
  {
   "cell_type": "code",
   "execution_count": 19,
   "id": "17da1794",
   "metadata": {},
   "outputs": [],
   "source": [
    "new_sales_df.createOrReplaceTempView('sales')"
   ]
  },
  {
   "cell_type": "markdown",
   "id": "44f746d0",
   "metadata": {},
   "source": []
  },
  {
   "cell_type": "markdown",
   "id": "48eaed6a",
   "metadata": {},
   "source": [
    "# 분석"
   ]
  },
  {
   "cell_type": "markdown",
   "id": "5919c96a",
   "metadata": {},
   "source": [
    "## 거래처별 일일 객단가"
   ]
  },
  {
   "cell_type": "code",
   "execution_count": 21,
   "id": "b64474f5",
   "metadata": {},
   "outputs": [
    {
     "name": "stderr",
     "output_type": "stream",
     "text": [
      "Wed Dec 18 17:18:00 KST 2024 WARN: Establishing SSL connection without server's identity verification is not recommended. According to MySQL 5.5.45+, 5.6.26+ and 5.7.6+ requirements SSL connection must be established by default if explicit option isn't set. For compliance with existing applications not using SSL the verifyServerCertificate property is set to 'false'. You need either to explicitly disable SSL by setting useSSL=false, or set useSSL=true and provide truststore for server certificate verification.\n",
      "[Stage 13:==========================================>           (158 + 2) / 200]\r"
     ]
    },
    {
     "name": "stdout",
     "output_type": "stream",
     "text": [
      "+----------+---------+---------------------------+-----------+\n",
      "|      Date|Shop_Code|                       Shop|Daily_Total|\n",
      "+----------+---------+---------------------------+-----------+\n",
      "|2024-11-21|    93411|                넥슨 꽃밥집|     586800|\n",
      "|2024-11-21|    93820|                 족발더하기|     420090|\n",
      "|2024-11-21|    93539|             정가네숯불갈비|     413170|\n",
      "|2024-11-21|    96303|병아리김밥 가산디지털단지점|     315072|\n",
      "|2024-11-21|    92378|        짜글이미식회 화곡점|     279300|\n",
      "|2024-11-21|    93334|                     홍오로|     261740|\n",
      "|2024-11-21|    94084|                   국수나무|     257590|\n",
      "|2024-11-21|    92456|                     우식당|     246060|\n",
      "|2024-11-21|    94983|             디테크한식뷔페|     244430|\n",
      "|2024-11-21|    92650|                   카츠애옹|     239960|\n",
      "+----------+---------+---------------------------+-----------+\n",
      "only showing top 10 rows\n",
      "\n"
     ]
    },
    {
     "name": "stderr",
     "output_type": "stream",
     "text": [
      "\r",
      "                                                                                \r"
     ]
    }
   ],
   "source": [
    "query = '''\n",
    "SELECT Date, Shop_Code, Shop, SUM(Sum_Price) AS Daily_Total\n",
    "FROM sales\n",
    "WHERE Date = '2024-11-21'\n",
    "GROUP BY Date, Shop_Code, Shop\n",
    "order by Daily_Total DESC;\n",
    "'''\n",
    "spark.sql(query).show(10)"
   ]
  },
  {
   "cell_type": "code",
   "execution_count": 22,
   "id": "a94b9deb",
   "metadata": {},
   "outputs": [
    {
     "name": "stderr",
     "output_type": "stream",
     "text": [
      "Wed Dec 18 17:18:12 KST 2024 WARN: Establishing SSL connection without server's identity verification is not recommended. According to MySQL 5.5.45+, 5.6.26+ and 5.7.6+ requirements SSL connection must be established by default if explicit option isn't set. For compliance with existing applications not using SSL the verifyServerCertificate property is set to 'false'. You need either to explicitly disable SSL by setting useSSL=false, or set useSSL=true and provide truststore for server certificate verification.\n",
      "[Stage 15:====================================================> (196 + 2) / 200]\r"
     ]
    },
    {
     "name": "stdout",
     "output_type": "stream",
     "text": [
      "+----------+---------+--------------------------+-----------+\n",
      "|      Date|Shop_Code|                      Shop|Daily_Total|\n",
      "+----------+---------+--------------------------+-----------+\n",
      "|2024-11-22|    91697|                배할머니네|     554360|\n",
      "|2024-11-22|    93949|                우영푸드빌|     455890|\n",
      "|2024-11-22|    95153|           오토김밥 대치점|     455200|\n",
      "|2024-11-22|    95763|       두촌가마솥밥&쭈꾸미|     394980|\n",
      "|2024-11-22|    92472|                 2.5닭갈비|     382840|\n",
      "|2024-11-22|    93569|                옥동소뼈탕|     371990|\n",
      "|2024-11-22|    93816|                  박가부대|     344740|\n",
      "|2024-11-22|    92374|         옥사장집밥 화곡점|     330790|\n",
      "|2024-11-22|    94759|                  광동포차|     306900|\n",
      "|2024-11-22|    94309|밥한민국 구구족건물지하1층|     301290|\n",
      "+----------+---------+--------------------------+-----------+\n",
      "only showing top 10 rows\n",
      "\n"
     ]
    },
    {
     "name": "stderr",
     "output_type": "stream",
     "text": [
      "\r",
      "                                                                                \r"
     ]
    }
   ],
   "source": [
    "query = '''\n",
    "SELECT Date, Shop_Code, Shop, SUM(Sum_Price) AS Daily_Total\n",
    "FROM sales\n",
    "WHERE Date = '2024-11-22'\n",
    "GROUP BY Date, Shop_Code, Shop\n",
    "order by Daily_Total DESC;\n",
    "'''\n",
    "spark.sql(query).show(10)"
   ]
  },
  {
   "cell_type": "markdown",
   "id": "0b92f2b2",
   "metadata": {},
   "source": [
    "## 거래처별 일일 구매 수량"
   ]
  },
  {
   "cell_type": "code",
   "execution_count": 23,
   "id": "82af0d11",
   "metadata": {},
   "outputs": [
    {
     "name": "stderr",
     "output_type": "stream",
     "text": [
      "Wed Dec 18 17:19:03 KST 2024 WARN: Establishing SSL connection without server's identity verification is not recommended. According to MySQL 5.5.45+, 5.6.26+ and 5.7.6+ requirements SSL connection must be established by default if explicit option isn't set. For compliance with existing applications not using SSL the verifyServerCertificate property is set to 'false'. You need either to explicitly disable SSL by setting useSSL=false, or set useSSL=true and provide truststore for server certificate verification.\n",
      "[Stage 17:=================================================>    (182 + 2) / 200]\r"
     ]
    },
    {
     "name": "stdout",
     "output_type": "stream",
     "text": [
      "+----------+---------+-----------------------------------+-----------+\n",
      "|      Date|Shop_Code|                               Shop|Daily_Count|\n",
      "+----------+---------+-----------------------------------+-----------+\n",
      "|2024-11-21|    93411|                        넥슨 꽃밥집|         72|\n",
      "|2024-11-21|    92456|                             우식당|         70|\n",
      "|2024-11-21|    94087|최고당돈까스 안양아이에스비즈타워점|         67|\n",
      "|2024-11-21|    92722|                           인생면가|         53|\n",
      "|2024-11-21|    93820|                         족발더하기|         51|\n",
      "|2024-11-21|    92378|                짜글이미식회 화곡점|         50|\n",
      "|2024-11-21|    92814|                    담소 소사골순대|         50|\n",
      "|2024-11-21|    93479|                      우화 숯불구이|         33|\n",
      "|2024-11-21|    91941|                           국밥상회|         33|\n",
      "|2024-11-21|    57586|                        153구포국수|         32|\n",
      "+----------+---------+-----------------------------------+-----------+\n",
      "only showing top 10 rows\n",
      "\n"
     ]
    },
    {
     "name": "stderr",
     "output_type": "stream",
     "text": [
      "\r",
      "                                                                                \r"
     ]
    }
   ],
   "source": [
    "query = '''\n",
    "SELECT Date, Shop_Code, Shop, SUM(Count) AS Daily_Count\n",
    "FROM sales\n",
    "WHERE Date = '2024-11-21'\n",
    "GROUP BY Date, Shop_Code, Shop\n",
    "order by Daily_Count DESC;\n",
    "'''\n",
    "spark.sql(query).show(10)"
   ]
  },
  {
   "cell_type": "code",
   "execution_count": 24,
   "id": "00c8d862",
   "metadata": {},
   "outputs": [
    {
     "name": "stderr",
     "output_type": "stream",
     "text": [
      "Wed Dec 18 17:19:17 KST 2024 WARN: Establishing SSL connection without server's identity verification is not recommended. According to MySQL 5.5.45+, 5.6.26+ and 5.7.6+ requirements SSL connection must be established by default if explicit option isn't set. For compliance with existing applications not using SSL the verifyServerCertificate property is set to 'false'. You need either to explicitly disable SSL by setting useSSL=false, or set useSSL=true and provide truststore for server certificate verification.\n",
      "[Stage 19:=====================================================>(197 + 2) / 200]\r"
     ]
    },
    {
     "name": "stdout",
     "output_type": "stream",
     "text": [
      "+----------+---------+-------------------------------+-----------+\n",
      "|      Date|Shop_Code|                           Shop|Daily_Count|\n",
      "+----------+---------+-------------------------------+-----------+\n",
      "|2024-11-22|    96216|          곱창전골 1층 간판없음|        164|\n",
      "|2024-11-22|    92472|                      2.5닭갈비|         87|\n",
      "|2024-11-22|    94579|                       인생푸드|         73|\n",
      "|2024-11-22|    92529|206숯불구이.     이공육숯불구이|         71|\n",
      "|2024-11-22|    94309|     밥한민국 구구족건물지하1층|         68|\n",
      "|2024-11-22|    95408|                         아성원|         67|\n",
      "|2024-11-22|    91697|                     배할머니네|         65|\n",
      "|2024-11-22|    93816|                       박가부대|         58|\n",
      "|2024-11-22|    92880|                       꽃삼살롱|         46|\n",
      "|2024-11-22|    92515|              최우영수산 영등포|         45|\n",
      "+----------+---------+-------------------------------+-----------+\n",
      "only showing top 10 rows\n",
      "\n"
     ]
    },
    {
     "name": "stderr",
     "output_type": "stream",
     "text": [
      "\r",
      "                                                                                \r"
     ]
    }
   ],
   "source": [
    "query = '''\n",
    "SELECT Date, Shop_Code, Shop, SUM(Count) AS Daily_Count\n",
    "FROM sales\n",
    "WHERE Date = '2024-11-22'\n",
    "GROUP BY Date, Shop_Code, Shop\n",
    "order by Daily_Count DESC;\n",
    "'''\n",
    "spark.sql(query).show(10)"
   ]
  },
  {
   "cell_type": "markdown",
   "id": "17741a40",
   "metadata": {},
   "source": [
    "## 거래처별 일일 객단가추이"
   ]
  },
  {
   "cell_type": "code",
   "execution_count": 25,
   "id": "c00a91f1",
   "metadata": {},
   "outputs": [
    {
     "name": "stderr",
     "output_type": "stream",
     "text": [
      "Wed Dec 18 17:20:27 KST 2024 WARN: Establishing SSL connection without server's identity verification is not recommended. According to MySQL 5.5.45+, 5.6.26+ and 5.7.6+ requirements SSL connection must be established by default if explicit option isn't set. For compliance with existing applications not using SSL the verifyServerCertificate property is set to 'false'. You need either to explicitly disable SSL by setting useSSL=false, or set useSSL=true and provide truststore for server certificate verification.\n",
      "Wed Dec 18 17:20:27 KST 2024 WARN: Establishing SSL connection without server's identity verification is not recommended. According to MySQL 5.5.45+, 5.6.26+ and 5.7.6+ requirements SSL connection must be established by default if explicit option isn't set. For compliance with existing applications not using SSL the verifyServerCertificate property is set to 'false'. You need either to explicitly disable SSL by setting useSSL=false, or set useSSL=true and provide truststore for server certificate verification.\n",
      "[Stage 25:==================================================>   (188 + 3) / 200]\r"
     ]
    },
    {
     "name": "stdout",
     "output_type": "stream",
     "text": [
      "+---------+------------------------+--------------+-------------+-------------+----------+--------------------------+----------+-----------+\n",
      "|Shop_Code|                    Shop|First_Purchase|Last_Purchase|Purchase_Days|Date_Range|Avg_Days_Between_Purchases|      Date|Daily_Total|\n",
      "+---------+------------------------+--------------+-------------+-------------+----------+--------------------------+----------+-----------+\n",
      "|    25907|두남자의 볶음밥 & 냉모밀|    2024-11-21|   2024-11-22|            2|         1|                       1.0|2024-11-21|      85660|\n",
      "|    25907|두남자의 볶음밥 & 냉모밀|    2024-11-21|   2024-11-22|            2|         1|                       1.0|2024-11-22|     162570|\n",
      "|    29256|                광장닭발|    2024-11-21|   2024-11-22|            2|         1|                       1.0|2024-11-21|     155700|\n",
      "|    29256|                광장닭발|    2024-11-21|   2024-11-22|            2|         1|                       1.0|2024-11-22|      70470|\n",
      "|    91004|                    솔솥|    2024-11-21|   2024-11-22|            2|         1|                       1.0|2024-11-21|     132210|\n",
      "|    91004|                    솔솥|    2024-11-21|   2024-11-22|            2|         1|                       1.0|2024-11-22|     173890|\n",
      "|    91005|     미스사이공 신도림점|    2024-11-21|   2024-11-22|            2|         1|                       1.0|2024-11-21|      73150|\n",
      "|    91005|     미스사이공 신도림점|    2024-11-21|   2024-11-22|            2|         1|                       1.0|2024-11-22|     112360|\n",
      "|    91642|                  하오츠|    2024-11-21|   2024-11-22|            2|         1|                       1.0|2024-11-21|     118760|\n",
      "|    91642|                  하오츠|    2024-11-21|   2024-11-22|            2|         1|                       1.0|2024-11-22|     235400|\n",
      "+---------+------------------------+--------------+-------------+-------------+----------+--------------------------+----------+-----------+\n",
      "only showing top 10 rows\n",
      "\n"
     ]
    },
    {
     "name": "stderr",
     "output_type": "stream",
     "text": [
      "\r",
      "                                                                                \r"
     ]
    }
   ],
   "source": [
    "query = '''\n",
    "SELECT \n",
    "    ss.Shop_Code,\n",
    "    ss.Shop,\n",
    "    ss.First_Purchase,\n",
    "    ss.Last_Purchase,\n",
    "    ss.Purchase_Days,\n",
    "    ss.Date_Range,\n",
    "    ss.Avg_Days_Between_Purchases,\n",
    "    dt.Date,\n",
    "    COALESCE(dt.Daily_Total, 0) AS Daily_Total\n",
    "FROM \n",
    "    (SELECT \n",
    "        Shop_Code,\n",
    "        Shop,\n",
    "        MIN(Date) AS First_Purchase,\n",
    "        MAX(Date) AS Last_Purchase,\n",
    "        COUNT(DISTINCT Date) AS Purchase_Days,\n",
    "        DATEDIFF(MAX(Date), MIN(Date)) AS Date_Range,\n",
    "        DATEDIFF(MAX(Date), MIN(Date)) / (COUNT(DISTINCT Date) - 1) AS Avg_Days_Between_Purchases\n",
    "    FROM \n",
    "        sales\n",
    "    GROUP BY \n",
    "        Shop_Code, Shop\n",
    "    HAVING \n",
    "        COUNT(DISTINCT Date) > 1) ss\n",
    "LEFT JOIN \n",
    "    (SELECT \n",
    "        Date, \n",
    "        Shop_Code,\n",
    "        SUM(Sum_Price) AS Daily_Total\n",
    "    FROM \n",
    "        sales\n",
    "    GROUP BY \n",
    "        Date, Shop_Code) dt \n",
    "ON ss.Shop_Code = dt.Shop_Code\n",
    "ORDER BY \n",
    "    ss.Shop_Code, dt.Date;\n",
    "'''\n",
    "spark.sql(query).show(10)"
   ]
  },
  {
   "cell_type": "markdown",
   "id": "03691d49",
   "metadata": {},
   "source": [
    "## 거래처별 일일 주문품목수 변화추이"
   ]
  },
  {
   "cell_type": "code",
   "execution_count": 30,
   "id": "de4e29b0",
   "metadata": {},
   "outputs": [
    {
     "name": "stdout",
     "output_type": "stream",
     "text": [
      "*******************************************************\n",
      "Daily_Distinct_Items: 해당 날짜에 거래처에서 주문한 고유한 품목의 수\n",
      "Daily_Count: 해당 날짜의 거래처의 총 주문 수량\n",
      "*******************************************************\n"
     ]
    },
    {
     "name": "stderr",
     "output_type": "stream",
     "text": [
      "Wed Dec 18 17:43:16 KST 2024 WARN: Establishing SSL connection without server's identity verification is not recommended. According to MySQL 5.5.45+, 5.6.26+ and 5.7.6+ requirements SSL connection must be established by default if explicit option isn't set. For compliance with existing applications not using SSL the verifyServerCertificate property is set to 'false'. You need either to explicitly disable SSL by setting useSSL=false, or set useSSL=true and provide truststore for server certificate verification.\n",
      "                                                                                \r"
     ]
    },
    {
     "name": "stdout",
     "output_type": "stream",
     "text": [
      "+----------+---------+------------------------+--------------------+-----------+\n",
      "|      Date|Shop_Code|                    Shop|Daily_Distinct_Items|Daily_Count|\n",
      "+----------+---------+------------------------+--------------------+-----------+\n",
      "|      null|     null|                        |                   0|       null|\n",
      "|2024-11-22|    17001|             모꼬지 식당|                   5|          9|\n",
      "|2024-11-21|    25907|두남자의 볶음밥 & 냉모밀|                   6|         13|\n",
      "|2024-11-22|    25907|두남자의 볶음밥 & 냉모밀|                  12|         29|\n",
      "|2024-11-21|    26131|                찜꽁찜닭|                   7|         14|\n",
      "|2024-11-22|    27001|                곱창주막|                   7|         12|\n",
      "|2024-11-22|    27600|                대령숙수|                   4|         10|\n",
      "|2024-11-21|    29256|                광장닭발|                   8|         22|\n",
      "|2024-11-22|    29256|                광장닭발|                   7|         16|\n",
      "|2024-11-21|    32554|                손두부가|                   7|          9|\n",
      "|2024-11-22|    38745|                    가게|                   9|         14|\n",
      "|2024-11-22|    43213|             위례 김가네|                   5|         11|\n",
      "|2024-11-22|    45001|            야무진떡볶이|                   6|         18|\n",
      "|2024-11-22|    45863|       고소미부엌 화곡점|                   5|          8|\n",
      "|2024-11-22|    51397|              대자연푸드|                  10|         27|\n",
      "|2024-11-21|    55138|                고레카레|                   2|          3|\n",
      "|2024-11-21|    57586|             153구포국수|                   6|         32|\n",
      "|2024-11-22|    58001|                숙수의집|                   5|         15|\n",
      "|2024-11-21|    58126|   모두의주방 지층 5호실|                   4|         30|\n",
      "|2024-11-21|    66419|         덮다 광교중앙점|                   4|          9|\n",
      "+----------+---------+------------------------+--------------------+-----------+\n",
      "only showing top 20 rows\n",
      "\n"
     ]
    }
   ],
   "source": [
    "print('*******************************************************')\n",
    "print('Daily_Distinct_Items: 해당 날짜에 거래처에서 주문한 고유한 품목의 수')\n",
    "print('Daily_Count: 해당 날짜의 거래처의 총 주문 수량')\n",
    "print('*******************************************************')\n",
    "query = '''\n",
    "SELECT \n",
    "    Date,\n",
    "    Shop_Code,\n",
    "    Shop,\n",
    "    COUNT(DISTINCT Item_code) AS Daily_Distinct_Items,\n",
    "    SUM(Count) AS Daily_Count\n",
    "FROM \n",
    "    sales\n",
    "GROUP BY \n",
    "    Date, Shop_Code, Shop\n",
    "ORDER BY \n",
    "    Shop_Code, Date;\n",
    "'''\n",
    "spark.sql(query).show(20)"
   ]
  },
  {
   "cell_type": "code",
   "execution_count": null,
   "id": "a793dfcb",
   "metadata": {},
   "outputs": [],
   "source": []
  },
  {
   "cell_type": "code",
   "execution_count": null,
   "id": "1d1ba014",
   "metadata": {},
   "outputs": [],
   "source": []
  },
  {
   "cell_type": "code",
   "execution_count": null,
   "id": "553c8459",
   "metadata": {},
   "outputs": [],
   "source": []
  },
  {
   "cell_type": "code",
   "execution_count": null,
   "id": "8cf179e8",
   "metadata": {},
   "outputs": [],
   "source": []
  },
  {
   "cell_type": "code",
   "execution_count": null,
   "id": "69e075af",
   "metadata": {},
   "outputs": [],
   "source": []
  },
  {
   "cell_type": "code",
   "execution_count": null,
   "id": "ab37f17d",
   "metadata": {},
   "outputs": [],
   "source": []
  },
  {
   "cell_type": "code",
   "execution_count": null,
   "id": "4830c8d7",
   "metadata": {},
   "outputs": [],
   "source": []
  },
  {
   "cell_type": "code",
   "execution_count": null,
   "id": "368c369c",
   "metadata": {},
   "outputs": [],
   "source": []
  },
  {
   "cell_type": "code",
   "execution_count": null,
   "id": "2f6c3f93",
   "metadata": {},
   "outputs": [],
   "source": []
  },
  {
   "cell_type": "code",
   "execution_count": null,
   "id": "cc96fb38",
   "metadata": {},
   "outputs": [],
   "source": [
    "spark.stop()"
   ]
  }
 ],
 "metadata": {
  "kernelspec": {
   "display_name": "Python (spark_start)",
   "language": "python",
   "name": "spark_start"
  },
  "language_info": {
   "codemirror_mode": {
    "name": "ipython",
    "version": 3
   },
   "file_extension": ".py",
   "mimetype": "text/x-python",
   "name": "python",
   "nbconvert_exporter": "python",
   "pygments_lexer": "ipython3",
   "version": "3.8.20"
  }
 },
 "nbformat": 4,
 "nbformat_minor": 5
}
