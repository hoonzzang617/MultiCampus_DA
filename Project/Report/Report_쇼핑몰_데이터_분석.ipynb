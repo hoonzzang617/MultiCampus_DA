{
 "cells": [
  {
   "cell_type": "markdown",
   "id": "1e6a6afb-1b06-457a-934f-146d8c4d70d5",
   "metadata": {},
   "source": [
    "1. 성별과 연령대, 직업군과 도시별, 결혼여부별, 거주기간별로 구매량을 확인\r\n",
    "\"\"\"\r\n",
    "성별 및 연령대별 구매 패턴: 성별(Gender)과 연령대(Age)별로 구매(Purchase) 금액의 평균을 비교하여 어떤 그룹이 더 많은 구매를 하는지 파악\r\n",
    "\r\n",
    "직업별 평균 구매 금액: Occupation에 따른 구매 금액을 분석하여 어떤 직업군이 가장 높은 소비를 하는지\r\n",
    "\r\n",
    "도시 카테고리별 소비 행동: City_Category에 따른 평균 구매 금액과 구매 빈도를 분석하여 각 도시의 소비 특성을 파악\r\n",
    "\r\n",
    "결혼 여부에 따른 구매 차이: Marital_Status에 따라 구매 패턴을 비교하여 결혼 여부가 소비에 미치는 영향을 분석\r\n",
    "\r\n",
    "거주 기간과 구매 행동의 관계: Stay_In_Current_City_Years와 구매 금액 간의 상관관계를 분석하여 거주 기간이 소비에 미치는 영향\r\n",
    "\r\n",
    "제품 카테고리별 인기 분석: Product_Category별로 구매 금액을 분석하여 가장 인기 있는 제품 카테고리를 파악\r\n",
    "\r\n",
    "상위 고객 식별: 가장 많은 구매를 한 상위 고객(User_ID)을 식별하고, 이들의 특성을 분석하여 타겟 마케팅 전략에 활용\r\n",
    "\r\n",
    "VIP 고객 도출 및 지역별 구매 고객 특징을 파악하여 마케팅 전략을 도출\r\n",
    "\"\"\"\r\n",
    "\r\n",
    "2. 선호하는 품목 카테고리를 파악하여 어떤 그룹이 어떠한 제품군을 선호하며 가장 소비량이 많은지 확인\r\n",
    "\r\n",
    "3. 고객의 소비 패턴과 특징별로 나눴을 때 유의미하게 구매력이 떨어지는 항목에 대해서는 구매력을 늘리고 신규 고객 유치를 위한 방향성을 제시\r\n",
    "\r\n",
    "4. 3번과 반대로 구매력이 높은 항목에 대해서는 이를 유지하거나 더 강화하는 방법을 고안 "
   ]
  },
  {
   "cell_type": "code",
   "execution_count": null,
   "id": "d0a50a8a-85a8-4ec4-b698-ef2df4eca90d",
   "metadata": {},
   "outputs": [],
   "source": []
  },
  {
   "cell_type": "markdown",
   "id": "7ca38d52-1689-44eb-b52e-ffddfe949a0b",
   "metadata": {},
   "source": [
    "-  26-35세가 가장 많고, 0-17세가 가장 적다\n",
    "-  46-50과 51-55를 합치면 꽤나 많은 수의 회원이다.\n",
    "-  현재 도시에서 1년이상 2년미만이 된 회원이 가장 많다\n",
    "-  4년 이상 오래 거주한 회원도 적지 않다\n",
    "-  1년 미만인 회원이 가장 적다.  \n",
    "/////////////////////////////////////////////////////////////   \n",
    "-  남성인 회원이 2배이상 많다\n",
    "-  C가 가장 큰 도시로 추정\n",
    "-  미혼인 회원 기혼인 회원보다 많다  \n",
    "//////////////////////////////////////////////////////////////////\n",
    "-  4, 0, 7 직업이 가장 많다\n",
    "-  8 직업이 가장 적다\n",
    "//////////////////////////////////////////////////////////////////\n",
    "-  성별 간 연령과 각각의 도시에 지낸 기간의 평균은 거의 비슷하다.\n",
    "-  C 도시가 다른 두 도시에 비해 연령대가 있는 편이고 3도시 모두 각각의 도시에서 지낸 기간의 평균이 비슷하다.\n",
    "-  기혼인 회원의 연령대가 미혼인 회원보다 유의미하게 많은 편이고 미혼, 기혼 회원 모두 각각의 도시에서 지낸 기간의 평균이 비슷하다.   \n",
    "//////////////////////////////////////////////////////////////////    \n",
    "-  51세에서 55세를 46세에서 50세에 합친 것이 크게 차이가 없다.   \n",
    "//////////////////////////////////////////////////////////////////    \n"
   ]
  },
  {
   "cell_type": "code",
   "execution_count": null,
   "id": "b5ba0051-a2ec-476f-9560-3ccdd44fd622",
   "metadata": {},
   "outputs": [],
   "source": []
  },
  {
   "cell_type": "code",
   "execution_count": null,
   "id": "fe03db44-45b6-4be9-b87d-0aad7b25c76d",
   "metadata": {},
   "outputs": [],
   "source": []
  },
  {
   "cell_type": "code",
   "execution_count": null,
   "id": "f63b6ec9-1571-43ee-ba31-7726cb218480",
   "metadata": {},
   "outputs": [],
   "source": []
  },
  {
   "cell_type": "code",
   "execution_count": null,
   "id": "44b1fb9e-f807-4a8f-8735-858d37b4b8fc",
   "metadata": {},
   "outputs": [],
   "source": []
  }
 ],
 "metadata": {
  "kernelspec": {
   "display_name": "Python 3 (ipykernel)",
   "language": "python",
   "name": "python3"
  },
  "language_info": {
   "codemirror_mode": {
    "name": "ipython",
    "version": 3
   },
   "file_extension": ".py",
   "mimetype": "text/x-python",
   "name": "python",
   "nbconvert_exporter": "python",
   "pygments_lexer": "ipython3",
   "version": "3.12.4"
  }
 },
 "nbformat": 4,
 "nbformat_minor": 5
}
